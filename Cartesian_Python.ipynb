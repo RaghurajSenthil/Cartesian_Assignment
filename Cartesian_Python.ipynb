{
  "nbformat": 4,
  "nbformat_minor": 0,
  "metadata": {
    "colab": {
      "name": "Cartesian_Python.ipynb",
      "provenance": []
    },
    "kernelspec": {
      "name": "python3",
      "display_name": "Python 3"
    },
    "language_info": {
      "name": "python"
    }
  },
  "cells": [
    {
      "cell_type": "markdown",
      "source": [
        "##CARTESIAN QUESTION_1\n"
      ],
      "metadata": {
        "id": "QUsrltHwPbF3"
      }
    },
    {
      "cell_type": "code",
      "execution_count": 1,
      "metadata": {
        "colab": {
          "base_uri": "https://localhost:8080/"
        },
        "id": "G10QENMykB2A",
        "outputId": "becd4584-e027-4179-9dc1-c9e87810886a"
      },
      "outputs": [
        {
          "output_type": "stream",
          "name": "stdout",
          "text": [
            "This declaration represents a political commitment among declaration partners to advance a positive vision for the Internet in this era of a united europe\n",
            "\n",
            "The reversed sentence:\n",
            " Europe united a of era this in internet the for vision positive a advance to partners declaration among commitment political a represents declaration this\n",
            "\n",
            "The top 2 occurrence of the given words:\n",
            " [('a', 3), ('declaration', 2)]\n"
          ]
        }
      ],
      "source": [
        "\n",
        "from collections import Counter\n",
        "string=input()\n",
        "s = string.split()[::-1]\n",
        "Counter = Counter(s)\n",
        "most_occur = Counter.most_common(2)\n",
        "l = []\n",
        "for i in s:\n",
        "\tl.append(i)\n",
        "print(\"\\nThe reversed sentence:\\n\", \" \".join(l).capitalize())\n",
        "print(\"\\nThe top 2 occurrence of the given words:\\n\",most_occur)\n"
      ]
    }
  ]
}